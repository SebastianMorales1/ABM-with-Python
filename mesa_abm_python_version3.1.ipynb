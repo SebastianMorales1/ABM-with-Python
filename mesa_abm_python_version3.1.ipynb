{
  "cells": [
    {
      "cell_type": "markdown",
      "metadata": {
        "id": "view-in-github",
        "colab_type": "text"
      },
      "source": [
        "<a href=\"https://colab.research.google.com/github/SebastianMorales1/ABM-with-Python/blob/main/mesa_abm_python_version3.1.ipynb\" target=\"_parent\"><img src=\"https://colab.research.google.com/assets/colab-badge.svg\" alt=\"Open In Colab\"/></a>"
      ]
    },
    {
      "cell_type": "markdown",
      "metadata": {
        "id": "vNZ6MF7IRfVT"
      },
      "source": [
        "Import dependencies."
      ]
    },
    {
      "cell_type": "code",
      "execution_count": 4,
      "metadata": {
        "colab": {
          "base_uri": "https://localhost:8080/"
        },
        "id": "VdCozmLoRfVX",
        "outputId": "584af823-b564-46a5-f7b5-41fb19942b60"
      },
      "outputs": [
        {
          "output_type": "stream",
          "name": "stdout",
          "text": [
            "Requirement already satisfied: mesa in /usr/local/lib/python3.10/dist-packages (2.1.5)\n",
            "\u001b[31mERROR: Could not find a version that satisfies the requirement quiet (from versions: none)\u001b[0m\u001b[31m\n",
            "\u001b[0m\u001b[31mERROR: No matching distribution found for quiet\u001b[0m\u001b[31m\n",
            "\u001b[0m2.1.5\n"
          ]
        }
      ],
      "source": [
        "#!pip install mesa -- quiet\n",
        "# Make sure, you use the most recent version of mesa 2.1.5\n",
        "# This version is available in Google Colab platform.\n",
        "import mesa\n",
        "# The library \"mesa\" is installed and imported.\n",
        "#This is the library for ABM modelization\n",
        "#Further information in: https://mesa.readthedocs.io/en/stable/index.html\n",
        "\n",
        "import numpy as np\n",
        "#We use library numpy for arrays and all that stuff."
      ]
    },
    {
      "cell_type": "code",
      "execution_count": 5,
      "metadata": {
        "id": "xJ3NlfIxRfVb"
      },
      "outputs": [],
      "source": [
        "!pip install matplotlib --quiet\n",
        "import matplotlib.pyplot as plt\n",
        "# This library is to create graphs.\n",
        "# It is used to create the model landscape.\n",
        "\n",
        "# %matplotlib inline"
      ]
    },
    {
      "cell_type": "markdown",
      "metadata": {
        "id": "nJlABDCdRfVb"
      },
      "source": [
        "Resources Classes."
      ]
    },
    {
      "cell_type": "code",
      "execution_count": 6,
      "metadata": {
        "id": "7KHEiuBrRfVc"
      },
      "outputs": [],
      "source": [
        "# We initiate the resources classes.\n",
        "# The resources (sugar and spice) that are traded by the agents.\n",
        "\n",
        "class Sugar(mesa.Agent):\n",
        "  \"\"\"\n",
        "  Sugar\n",
        "  - contains an amount of sugar\n",
        "  - grows one amount of sugar at each turn\n",
        "  \"\"\"\n",
        "  def __init__(self, unique_id, model, pos, max_sugar):\n",
        "  # We give attributes to the sugar agent.\n",
        "  #Every agent has an unique ID, position and a maximum of amount of sugar.\n",
        "    super().__init__(unique_id, model)\n",
        "    self.pos = pos\n",
        "    self.amount = max_sugar\n",
        "    self.max_sugar = max_sugar"
      ]
    },
    {
      "cell_type": "code",
      "execution_count": 7,
      "metadata": {
        "id": "YMUCoIpDRfVd"
      },
      "outputs": [],
      "source": [
        "class Spice(mesa.Agent):\n",
        "  \"\"\"\n",
        "  Spice\n",
        "  - contains an amount of spice\n",
        "  - grows one amount of spice at each turn\n",
        "  \"\"\"\n",
        "  def __init__(self):\n",
        "    print(\"I am spice\")"
      ]
    },
    {
      "cell_type": "markdown",
      "metadata": {
        "id": "6FwkU9GERfVd"
      },
      "source": [
        "Trader Class"
      ]
    },
    {
      "cell_type": "code",
      "execution_count": 8,
      "metadata": {
        "id": "yBixDeQLRfVe"
      },
      "outputs": [],
      "source": [
        "#I believe that with this class are defined the agents that trade\n",
        "# it is repeated the same proccess with the trader agents.\n",
        "class Trader(mesa.Agent):\n",
        "  \"\"\"\n",
        "  Trader:\n",
        "  - has a metabolism of sugar and spice\n",
        "  - harvest and trade sugar and spice to survive and thrive\n",
        "  \"\"\"\n",
        "  def __init__(self):\n",
        "    print(\"I am Trader\")"
      ]
    },
    {
      "cell_type": "markdown",
      "metadata": {
        "id": "vwqLC8YcRfVe"
      },
      "source": [
        "Model class"
      ]
    },
    {
      "cell_type": "code",
      "execution_count": 21,
      "metadata": {
        "id": "I2VEwIjiRfVe"
      },
      "outputs": [],
      "source": [
        "# This is the declaration of the model class.\n",
        "# After the goods and the agents classes were previously defined.\n",
        "class SugarscapeG1mt(mesa.Model):\n",
        "  \"\"\"\n",
        "  Manager class to run Sugarscape with Traders\n",
        "  \"\"\"\n",
        "  # it is defined the size of the landscape.\n",
        "  def __init__(self, width=50,height=50):\n",
        "    #Initiate width and height of sugarscape\n",
        "    self.width = width\n",
        "    self.height = height\n",
        "    #initiate mesa grid class\n",
        "    self.grid = mesa.space.MultiGrid(self.width, self.height, torus=False)\n",
        "\n",
        "    #read in landscape file from supplementary material\n",
        "    # we use some numpy functions here\n",
        "    sugar_distribution =np.genfromtxt(\"sugar-map.txt\")\n",
        "    spice_distribution = np.flip(sugar_distribution, 1)\n",
        "    #With these commands it can be seen the graph of the Sugarscape model\n",
        "\n",
        "    agent_id = 0\n",
        "    for _, (x,y) in self.grid.coord_iter():\n",
        "      max_sugar = sugar_distribution[x,y]\n",
        "      if max_sugar > 0:\n",
        "        sugar = Sugar(agent_id, self, (x,y), max_sugar)\n",
        "        self.grid.place_agent(sugar,(x,y))\n",
        "        agent_id += 1\n",
        "       #print(sugar.unique_id, sugar.pos, sugar.max_sugar)\n",
        "        #This does not appear in SFI ABM mesa Tutorial Session 5\n",
        "      \"\"\"\n",
        "      for _, (x,y) in self.grid.coord_iter():\n",
        "        print(_, (x,y))\n",
        "      \"\"\""
      ]
    },
    {
      "cell_type": "markdown",
      "metadata": {
        "id": "1qPLUWl_RfVf"
      },
      "source": [
        "Run Sugarscape Model"
      ]
    },
    {
      "cell_type": "code",
      "execution_count": 22,
      "metadata": {
        "id": "nchjHfODRfVf"
      },
      "outputs": [],
      "source": [
        "model = SugarscapeG1mt()"
      ]
    }
  ],
  "metadata": {
    "kernelspec": {
      "display_name": "Python 3",
      "language": "python",
      "name": "python3"
    },
    "language_info": {
      "codemirror_mode": {
        "name": "ipython",
        "version": 3
      },
      "file_extension": ".py",
      "mimetype": "text/x-python",
      "name": "python",
      "nbconvert_exporter": "python",
      "pygments_lexer": "ipython3",
      "version": "3.10.3"
    },
    "orig_nbformat": 4,
    "colab": {
      "provenance": [],
      "include_colab_link": true
    }
  },
  "nbformat": 4,
  "nbformat_minor": 0
}