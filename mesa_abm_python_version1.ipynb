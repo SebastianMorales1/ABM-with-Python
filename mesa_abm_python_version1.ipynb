{
 "cells": [
  {
   "cell_type": "markdown",
   "metadata": {},
   "source": [
    "Import dependencies."
   ]
  },
  {
   "cell_type": "code",
   "execution_count": 5,
   "metadata": {},
   "outputs": [
    {
     "name": "stdout",
     "output_type": "stream",
     "text": [
      "Defaulting to user installation because normal site-packages is not writeable\n",
      "Requirement already satisfied: mesa in c:\\users\\usuario\\appdata\\roaming\\python\\python310\\site-packages (1.2.1)\n",
      "Requirement already satisfied: click in c:\\users\\usuario\\appdata\\roaming\\python\\python310\\site-packages (from mesa) (8.0.4)\n",
      "Requirement already satisfied: cookiecutter in c:\\users\\usuario\\appdata\\roaming\\python\\python310\\site-packages (from mesa) (2.1.1)\n",
      "Requirement already satisfied: networkx in c:\\users\\usuario\\appdata\\roaming\\python\\python310\\site-packages (from mesa) (3.1)\n",
      "Requirement already satisfied: numpy in c:\\users\\usuario\\appdata\\roaming\\python\\python310\\site-packages (from mesa) (1.24.2)\n",
      "Requirement already satisfied: pandas in c:\\users\\usuario\\appdata\\roaming\\python\\python310\\site-packages (from mesa) (2.0.1)\n",
      "Requirement already satisfied: tornado in c:\\users\\usuario\\appdata\\roaming\\python\\python310\\site-packages (from mesa) (6.1)\n",
      "Requirement already satisfied: tqdm in c:\\users\\usuario\\appdata\\roaming\\python\\python310\\site-packages (from mesa) (4.65.0)\n",
      "Requirement already satisfied: colorama in c:\\users\\usuario\\appdata\\roaming\\python\\python310\\site-packages (from click->mesa) (0.4.4)\n",
      "Requirement already satisfied: binaryornot>=0.4.4 in c:\\users\\usuario\\appdata\\roaming\\python\\python310\\site-packages (from cookiecutter->mesa) (0.4.4)\n",
      "Requirement already satisfied: Jinja2<4.0.0,>=2.7 in c:\\users\\usuario\\appdata\\roaming\\python\\python310\\site-packages (from cookiecutter->mesa) (3.0.3)\n",
      "Requirement already satisfied: pyyaml>=5.3.1 in c:\\users\\usuario\\appdata\\roaming\\python\\python310\\site-packages (from cookiecutter->mesa) (6.0)\n",
      "Requirement already satisfied: jinja2-time>=0.2.0 in c:\\users\\usuario\\appdata\\roaming\\python\\python310\\site-packages (from cookiecutter->mesa) (0.2.0)\n",
      "Requirement already satisfied: python-slugify>=4.0.0 in c:\\users\\usuario\\appdata\\roaming\\python\\python310\\site-packages (from cookiecutter->mesa) (8.0.1)\n",
      "Requirement already satisfied: requests>=2.23.0 in c:\\users\\usuario\\appdata\\roaming\\python\\python310\\site-packages (from cookiecutter->mesa) (2.30.0)\n",
      "Requirement already satisfied: python-dateutil>=2.8.2 in c:\\users\\usuario\\appdata\\roaming\\python\\python310\\site-packages (from pandas->mesa) (2.8.2)\n",
      "Requirement already satisfied: pytz>=2020.1 in c:\\users\\usuario\\appdata\\roaming\\python\\python310\\site-packages (from pandas->mesa) (2023.3)\n",
      "Requirement already satisfied: tzdata>=2022.1 in c:\\users\\usuario\\appdata\\roaming\\python\\python310\\site-packages (from pandas->mesa) (2023.3)\n",
      "Requirement already satisfied: chardet>=3.0.2 in c:\\users\\usuario\\appdata\\roaming\\python\\python310\\site-packages (from binaryornot>=0.4.4->cookiecutter->mesa) (5.1.0)\n",
      "Requirement already satisfied: MarkupSafe>=2.0 in c:\\users\\usuario\\appdata\\roaming\\python\\python310\\site-packages (from Jinja2<4.0.0,>=2.7->cookiecutter->mesa) (2.0.1)\n",
      "Requirement already satisfied: arrow in c:\\users\\usuario\\appdata\\roaming\\python\\python310\\site-packages (from jinja2-time>=0.2.0->cookiecutter->mesa) (1.2.3)\n",
      "Requirement already satisfied: six>=1.5 in c:\\users\\usuario\\appdata\\roaming\\python\\python310\\site-packages (from python-dateutil>=2.8.2->pandas->mesa) (1.16.0)\n",
      "Requirement already satisfied: text-unidecode>=1.3 in c:\\users\\usuario\\appdata\\roaming\\python\\python310\\site-packages (from python-slugify>=4.0.0->cookiecutter->mesa) (1.3)\n",
      "Requirement already satisfied: charset-normalizer<4,>=2 in c:\\users\\usuario\\appdata\\roaming\\python\\python310\\site-packages (from requests>=2.23.0->cookiecutter->mesa) (3.1.0)\n",
      "Requirement already satisfied: idna<4,>=2.5 in c:\\users\\usuario\\appdata\\roaming\\python\\python310\\site-packages (from requests>=2.23.0->cookiecutter->mesa) (3.4)\n",
      "Requirement already satisfied: urllib3<3,>=1.21.1 in c:\\users\\usuario\\appdata\\roaming\\python\\python310\\site-packages (from requests>=2.23.0->cookiecutter->mesa) (2.0.2)\n",
      "Requirement already satisfied: certifi>=2017.4.17 in c:\\users\\usuario\\appdata\\roaming\\python\\python310\\site-packages (from requests>=2.23.0->cookiecutter->mesa) (2023.5.7)\n"
     ]
    },
    {
     "name": "stderr",
     "output_type": "stream",
     "text": [
      "\n",
      "[notice] A new release of pip is available: 23.2.1 -> 23.3.1\n",
      "[notice] To update, run: python.exe -m pip install --upgrade pip\n"
     ]
    }
   ],
   "source": [
    "!pip install mesa --quiet\n",
    "#Installing mesa library\n",
    "import mesa\n",
    "# The library \"mesa\" is installed and imported.\n",
    "#This is the library for ABM modelization"
   ]
  },
  {
   "cell_type": "markdown",
   "metadata": {},
   "source": [
    "Resources Classes."
   ]
  },
  {
   "cell_type": "code",
   "execution_count": 6,
   "metadata": {},
   "outputs": [],
   "source": [
    "# We initiate the resources classes.\n",
    "# The resources (sugar and spice) that are traded by the agents.\n",
    "\n",
    "class Sugar(mesa.Agent):\n",
    "  \"\"\"\n",
    "  Sugar\n",
    "  - contains an amount of sugar\n",
    "  - grows one amount of sugar at each turn\n",
    "  \"\"\"\n",
    "  def __init__(self):\n",
    "    print(\"I am sugar\")\n",
    "\n",
    "class Spice(mesa.Agent):\n",
    "  \"\"\"\n",
    "  Spice\n",
    "  - contains an amount of spice\n",
    "  - grows one amount of spice at each turn\n",
    "  \"\"\"\n",
    "  def __init__(self):\n",
    "    print(\"I am spice\")"
   ]
  },
  {
   "cell_type": "markdown",
   "metadata": {},
   "source": [
    "Trader Class"
   ]
  },
  {
   "cell_type": "code",
   "execution_count": 7,
   "metadata": {},
   "outputs": [],
   "source": [
    "#I believe that with this class are defined the agents that trade\n",
    "# it is repeated the same proccess with the trader agents.\n",
    "class Trader(mesa.Agent):\n",
    "  \"\"\"\n",
    "  Trader:\n",
    "  - has a metabolism of sugar and spice\n",
    "  - harvest and trade sugar and spice to survive and thrive\n",
    "  \"\"\"\n",
    "  def __init__(self):\n",
    "    print(\"I am Trader\")"
   ]
  },
  {
   "cell_type": "markdown",
   "metadata": {},
   "source": [
    "Model class"
   ]
  },
  {
   "cell_type": "code",
   "execution_count": 8,
   "metadata": {},
   "outputs": [],
   "source": [
    "# I suppose this is the declaration of the model class\n",
    "# After the goods and the agents class were defined.\n",
    "class SugarscapeG1mt(mesa.Model):\n",
    "  \"\"\"\n",
    "  Manager class to run Sugarscape with Traders\n",
    "  \"\"\"\n",
    "  \n",
    "  \n",
    "  def __init__(self, width=50,height=50):\n",
    "    self.spice = Spice()\n",
    "    self.sugar = Sugar()\n",
    "    self.trader = Trader()"
   ]
  },
  {
   "cell_type": "code",
   "execution_count": 9,
   "metadata": {},
   "outputs": [
    {
     "name": "stdout",
     "output_type": "stream",
     "text": [
      "I am spice\n",
      "I am sugar\n",
      "I am Trader\n"
     ]
    }
   ],
   "source": [
    "model = SugarscapeG1mt()"
   ]
  }
 ],
 "metadata": {
  "kernelspec": {
   "display_name": "Python 3",
   "language": "python",
   "name": "python3"
  },
  "language_info": {
   "codemirror_mode": {
    "name": "ipython",
    "version": 3
   },
   "file_extension": ".py",
   "mimetype": "text/x-python",
   "name": "python",
   "nbconvert_exporter": "python",
   "pygments_lexer": "ipython3",
   "version": "3.10.3"
  },
  "orig_nbformat": 4
 },
 "nbformat": 4,
 "nbformat_minor": 2
}
