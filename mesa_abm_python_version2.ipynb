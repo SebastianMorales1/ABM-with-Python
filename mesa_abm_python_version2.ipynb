{
 "cells": [
  {
   "cell_type": "markdown",
   "metadata": {},
   "source": [
    "Import dependencies."
   ]
  },
  {
   "cell_type": "code",
   "execution_count": null,
   "metadata": {},
   "outputs": [],
   "source": [
    "!pip install mesa --quiet\n",
    "import mesa\n",
    "# The library \"mesa\" is installed and imported.\n",
    "#This is the library for ABM modelization\n",
    "import numpy as np\n",
    "#We use library numpy for arrays and all that stuff."
   ]
  },
  {
   "cell_type": "code",
   "execution_count": 28,
   "metadata": {},
   "outputs": [],
   "source": [
    "!pip install matplotlib --quiet\n",
    "import matplotlib.pyplot as plt\n",
    "# This library is to create graphs.\n",
    "# It is used to create the model landscape.\n",
    "\n",
    "# %matplotlib inline"
   ]
  },
  {
   "cell_type": "markdown",
   "metadata": {},
   "source": [
    "Resources Classes."
   ]
  },
  {
   "cell_type": "code",
   "execution_count": 7,
   "metadata": {},
   "outputs": [],
   "source": [
    "# We initiate the resources classes.\n",
    "# The resources (sugar and spice) that are traded by the agents.\n",
    "\n",
    "class Sugar(mesa.Agent):\n",
    "  \"\"\"\n",
    "  Sugar\n",
    "  - contains an amount of sugar\n",
    "  - grows one amount of sugar at each turn\n",
    "  \"\"\"\n",
    "  def __init__(self):\n",
    "    print(\"I am sugar\")\n",
    "\n",
    "class Spice(mesa.Agent):\n",
    "  \"\"\"\n",
    "  Spice\n",
    "  - contains an amount of spice\n",
    "  - grows one amount of spice at each turn\n",
    "  \"\"\"\n",
    "  def __init__(self):\n",
    "    print(\"I am spice\")"
   ]
  },
  {
   "cell_type": "markdown",
   "metadata": {},
   "source": [
    "Trader Class"
   ]
  },
  {
   "cell_type": "code",
   "execution_count": 8,
   "metadata": {},
   "outputs": [],
   "source": [
    "#I believe that with this class are defined the agents that trade\n",
    "# it is repeated the same proccess with the trader agents.\n",
    "class Trader(mesa.Agent):\n",
    "  \"\"\"\n",
    "  Trader:\n",
    "  - has a metabolism of sugar and spice\n",
    "  - harvest and trade sugar and spice to survive and thrive\n",
    "  \"\"\"\n",
    "  def __init__(self):\n",
    "    print(\"I am Trader\")"
   ]
  },
  {
   "cell_type": "markdown",
   "metadata": {},
   "source": [
    "Model class"
   ]
  },
  {
   "cell_type": "code",
   "execution_count": 29,
   "metadata": {},
   "outputs": [],
   "source": [
    "# This is the declaration of the model class.\n",
    "# After the goods and the agents classes were previously defined.\n",
    "class SugarscapeG1mt(mesa.Model):\n",
    "  \"\"\"\n",
    "  Manager class to run Sugarscape with Traders\n",
    "  \"\"\"\n",
    "  # it is defined the size of the landscape.\n",
    "  def __init__(self, width=50,height=50):\n",
    "    #Initiate width and height of sugarscape\n",
    "    self.width = width\n",
    "    self.height = height\n",
    "    #initiate mesa grid class\n",
    "    self.grid = mesa.space.MultiGrid(self.width, self.height, torus=False)\n",
    "    #read in landscape file from supplementary material\n",
    "    # we use some numpy functions here\n",
    "    sugar_distribution =np.genfromtxt(\"sugar-map.txt\")\n",
    "    \n",
    "    #print(sugar_distribution.shape)\n",
    "    #print(sugar_distribution[30])\n",
    "    #With these two early commands we can observe a vector of the Sugarscape model\n",
    "    \n",
    "    spice_distribution = np.flip(sugar_distribution, 1)\n",
    "    plt.imshow(spice_distribution, origin=\"lower\")\n",
    "    #With these commands it can be seen the graph of the Sugarscape model"
   ]
  },
  {
   "cell_type": "markdown",
   "metadata": {},
   "source": [
    "Run Sugarscape Model"
   ]
  },
  {
   "cell_type": "code",
   "execution_count": 30,
   "metadata": {},
   "outputs": [
    {
     "data": {
      "image/png": "[encoded data removed]",
      "text/plain": [
       "<Figure size 432x288 with 1 Axes>"
      ]
     },
     "metadata": {
      "needs_background": "light"
     },
     "output_type": "display_data"
    }
   ],
   "source": [
    "model = SugarscapeG1mt()"
   ]
  }
 ],
 "metadata": {
  "kernelspec": {
   "display_name": "Python 3",
   "language": "python",
   "name": "python3"
  },
  "language_info": {
   "codemirror_mode": {
    "name": "ipython",
    "version": 3
   },
   "file_extension": ".py",
   "mimetype": "text/x-python",
   "name": "python",
   "nbconvert_exporter": "python",
   "pygments_lexer": "ipython3",
   "version": "3.10.3"
  },
  "orig_nbformat": 4
 },
 "nbformat": 4,
 "nbformat_minor": 2
}
